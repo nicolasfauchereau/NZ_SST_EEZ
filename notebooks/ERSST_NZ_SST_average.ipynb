{
 "cells": [
  {
   "cell_type": "markdown",
   "id": "a2c0d5cc-eccd-48b5-adf1-c85b01c0a930",
   "metadata": {},
   "source": [
    "### Notebook to calculate the area-weighted annual SST within Aotearoa's Exclusive Economic Zone"
   ]
  },
  {
   "cell_type": "markdown",
   "id": "10cca6d9-3fe6-40f7-8f61-1dfef362093f",
   "metadata": {},
   "source": [
    "data sources: \n",
    "\n",
    "- ERSST: [http://www.esrl.noaa.gov/psd/thredds/dodsC/Datasets/noaa.ersst.v5/sst.mnmean.nc](http://www.esrl.noaa.gov/psd/thredds/dodsC/Datasets/noaa.ersst.v5/sst.mnmean.nc)\n",
    "- shapefile with the World's EEZ: [https://www.marineregions.org/downloads.php](https://www.marineregions.org/downloads.php ) "
   ]
  },
  {
   "cell_type": "markdown",
   "id": "ef14c7fb-e86f-4a61-b212-9b7f5d0e7070",
   "metadata": {},
   "source": [
    "### imports "
   ]
  },
  {
   "cell_type": "code",
   "execution_count": 1,
   "id": "5b92dda1-f747-4a6d-afca-c9690172a4c5",
   "metadata": {},
   "outputs": [],
   "source": [
    "%matplotlib inline\n",
    "\n",
    "### scipy\n",
    "import numpy as np\n",
    "import pandas as pd\n",
    "import xarray as xr\n",
    "import geopandas as gpd\n",
    "import cartopy.crs as ccrs\n",
    "\n",
    "### plotting\n",
    "from matplotlib import pyplot as plt\n",
    "import matplotlib\n",
    "import seaborn as sns"
   ]
  },
  {
   "cell_type": "code",
   "execution_count": 2,
   "id": "c80dcf28-c3bd-46ca-9234-62588241d1cb",
   "metadata": {},
   "outputs": [],
   "source": [
    "import regionmask"
   ]
  },
  {
   "cell_type": "code",
   "execution_count": 3,
   "id": "02480b94-f8e0-4eb7-8c9a-b73b30718a15",
   "metadata": {},
   "outputs": [],
   "source": [
    "import pathlib\n",
    "\n",
    "HOME = pathlib.Path.home()\n",
    "CWD = pathlib.Path.cwd()"
   ]
  },
  {
   "cell_type": "markdown",
   "id": "2a8ca268-94b6-40c2-af83-aea6032192d8",
   "metadata": {},
   "source": [
    "### reads the shapefile containing the world's EEZ as polygons"
   ]
  },
  {
   "cell_type": "code",
   "execution_count": 4,
   "id": "41689165-651f-4e44-b183-1112547572db",
   "metadata": {},
   "outputs": [],
   "source": [
    "shp = gpd.read_file('../data/World_EEZ_v11_20191118_HR_0_360/eez_v11_0_360.shp') "
   ]
  },
  {
   "cell_type": "code",
   "execution_count": 5,
   "id": "c0f4e780-7c77-4840-b851-643418035f6f",
   "metadata": {},
   "outputs": [
    {
     "data": {
      "text/html": [
       "<div>\n",
       "<style scoped>\n",
       "    .dataframe tbody tr th:only-of-type {\n",
       "        vertical-align: middle;\n",
       "    }\n",
       "\n",
       "    .dataframe tbody tr th {\n",
       "        vertical-align: top;\n",
       "    }\n",
       "\n",
       "    .dataframe thead th {\n",
       "        text-align: right;\n",
       "    }\n",
       "</style>\n",
       "<table border=\"1\" class=\"dataframe\">\n",
       "  <thead>\n",
       "    <tr style=\"text-align: right;\">\n",
       "      <th></th>\n",
       "      <th>MRGID</th>\n",
       "      <th>GEONAME</th>\n",
       "      <th>MRGID_TER1</th>\n",
       "      <th>POL_TYPE</th>\n",
       "      <th>MRGID_SOV1</th>\n",
       "      <th>TERRITORY1</th>\n",
       "      <th>ISO_TER1</th>\n",
       "      <th>SOVEREIGN1</th>\n",
       "      <th>MRGID_TER2</th>\n",
       "      <th>MRGID_SOV2</th>\n",
       "      <th>...</th>\n",
       "      <th>ISO_SOV1</th>\n",
       "      <th>ISO_SOV2</th>\n",
       "      <th>ISO_SOV3</th>\n",
       "      <th>UN_SOV1</th>\n",
       "      <th>UN_SOV2</th>\n",
       "      <th>UN_SOV3</th>\n",
       "      <th>UN_TER1</th>\n",
       "      <th>UN_TER2</th>\n",
       "      <th>UN_TER3</th>\n",
       "      <th>geometry</th>\n",
       "    </tr>\n",
       "  </thead>\n",
       "  <tbody>\n",
       "    <tr>\n",
       "      <th>0</th>\n",
       "      <td>8357.0</td>\n",
       "      <td>Kuwaiti Exclusive Economic Zone</td>\n",
       "      <td>2115.0</td>\n",
       "      <td>200NM</td>\n",
       "      <td>2115.0</td>\n",
       "      <td>Kuwait</td>\n",
       "      <td>KWT</td>\n",
       "      <td>Kuwait</td>\n",
       "      <td>0.0</td>\n",
       "      <td>0.0</td>\n",
       "      <td>...</td>\n",
       "      <td>KWT</td>\n",
       "      <td>None</td>\n",
       "      <td>None</td>\n",
       "      <td>414.0</td>\n",
       "      <td>NaN</td>\n",
       "      <td>NaN</td>\n",
       "      <td>414.0</td>\n",
       "      <td>NaN</td>\n",
       "      <td>NaN</td>\n",
       "      <td>MULTIPOLYGON (((47.97083 29.99681, 47.97161 29...</td>\n",
       "    </tr>\n",
       "    <tr>\n",
       "      <th>1</th>\n",
       "      <td>8310.0</td>\n",
       "      <td>Norfolk Island Exclusive Economic Zone</td>\n",
       "      <td>8591.0</td>\n",
       "      <td>200NM</td>\n",
       "      <td>2147.0</td>\n",
       "      <td>Norfolk Island</td>\n",
       "      <td>NFK</td>\n",
       "      <td>Australia</td>\n",
       "      <td>0.0</td>\n",
       "      <td>0.0</td>\n",
       "      <td>...</td>\n",
       "      <td>AUS</td>\n",
       "      <td>None</td>\n",
       "      <td>None</td>\n",
       "      <td>36.0</td>\n",
       "      <td>NaN</td>\n",
       "      <td>NaN</td>\n",
       "      <td>574.0</td>\n",
       "      <td>NaN</td>\n",
       "      <td>NaN</td>\n",
       "      <td>POLYGON ((169.42984 -25.93061, 169.43003 -25.9...</td>\n",
       "    </tr>\n",
       "    <tr>\n",
       "      <th>2</th>\n",
       "      <td>8373.0</td>\n",
       "      <td>Syrian Exclusive Economic Zone</td>\n",
       "      <td>3384.0</td>\n",
       "      <td>200NM</td>\n",
       "      <td>3384.0</td>\n",
       "      <td>Syria</td>\n",
       "      <td>SYR</td>\n",
       "      <td>Syria</td>\n",
       "      <td>0.0</td>\n",
       "      <td>0.0</td>\n",
       "      <td>...</td>\n",
       "      <td>SYR</td>\n",
       "      <td>None</td>\n",
       "      <td>None</td>\n",
       "      <td>760.0</td>\n",
       "      <td>NaN</td>\n",
       "      <td>NaN</td>\n",
       "      <td>760.0</td>\n",
       "      <td>NaN</td>\n",
       "      <td>NaN</td>\n",
       "      <td>POLYGON ((35.91810 35.92989, 35.91752 35.92882...</td>\n",
       "    </tr>\n",
       "    <tr>\n",
       "      <th>3</th>\n",
       "      <td>62596.0</td>\n",
       "      <td>Colombian Exclusive Economic Zone (Serrana)</td>\n",
       "      <td>5770.0</td>\n",
       "      <td>200NM</td>\n",
       "      <td>2175.0</td>\n",
       "      <td>Serrana Bank</td>\n",
       "      <td>None</td>\n",
       "      <td>Colombia</td>\n",
       "      <td>0.0</td>\n",
       "      <td>0.0</td>\n",
       "      <td>...</td>\n",
       "      <td>COL</td>\n",
       "      <td>None</td>\n",
       "      <td>None</td>\n",
       "      <td>170.0</td>\n",
       "      <td>NaN</td>\n",
       "      <td>NaN</td>\n",
       "      <td>NaN</td>\n",
       "      <td>NaN</td>\n",
       "      <td>NaN</td>\n",
       "      <td>POLYGON ((279.76139 14.67328, 279.76346 14.673...</td>\n",
       "    </tr>\n",
       "    <tr>\n",
       "      <th>4</th>\n",
       "      <td>8343.0</td>\n",
       "      <td>Mauritian Exclusive Economic Zone</td>\n",
       "      <td>8614.0</td>\n",
       "      <td>200NM</td>\n",
       "      <td>8614.0</td>\n",
       "      <td>Republic of Mauritius</td>\n",
       "      <td>MUS</td>\n",
       "      <td>Republic of Mauritius</td>\n",
       "      <td>0.0</td>\n",
       "      <td>0.0</td>\n",
       "      <td>...</td>\n",
       "      <td>MUS</td>\n",
       "      <td>None</td>\n",
       "      <td>None</td>\n",
       "      <td>480.0</td>\n",
       "      <td>NaN</td>\n",
       "      <td>NaN</td>\n",
       "      <td>480.0</td>\n",
       "      <td>NaN</td>\n",
       "      <td>NaN</td>\n",
       "      <td>POLYGON ((58.24359 -23.80956, 58.23972 -23.801...</td>\n",
       "    </tr>\n",
       "  </tbody>\n",
       "</table>\n",
       "<p>5 rows × 32 columns</p>\n",
       "</div>"
      ],
      "text/plain": [
       "     MRGID                                      GEONAME  MRGID_TER1 POL_TYPE  \\\n",
       "0   8357.0              Kuwaiti Exclusive Economic Zone      2115.0    200NM   \n",
       "1   8310.0       Norfolk Island Exclusive Economic Zone      8591.0    200NM   \n",
       "2   8373.0               Syrian Exclusive Economic Zone      3384.0    200NM   \n",
       "3  62596.0  Colombian Exclusive Economic Zone (Serrana)      5770.0    200NM   \n",
       "4   8343.0            Mauritian Exclusive Economic Zone      8614.0    200NM   \n",
       "\n",
       "   MRGID_SOV1             TERRITORY1 ISO_TER1             SOVEREIGN1  \\\n",
       "0      2115.0                 Kuwait      KWT                 Kuwait   \n",
       "1      2147.0         Norfolk Island      NFK              Australia   \n",
       "2      3384.0                  Syria      SYR                  Syria   \n",
       "3      2175.0           Serrana Bank     None               Colombia   \n",
       "4      8614.0  Republic of Mauritius      MUS  Republic of Mauritius   \n",
       "\n",
       "   MRGID_TER2  MRGID_SOV2  ... ISO_SOV1 ISO_SOV2 ISO_SOV3  UN_SOV1  UN_SOV2  \\\n",
       "0         0.0         0.0  ...      KWT     None     None    414.0      NaN   \n",
       "1         0.0         0.0  ...      AUS     None     None     36.0      NaN   \n",
       "2         0.0         0.0  ...      SYR     None     None    760.0      NaN   \n",
       "3         0.0         0.0  ...      COL     None     None    170.0      NaN   \n",
       "4         0.0         0.0  ...      MUS     None     None    480.0      NaN   \n",
       "\n",
       "  UN_SOV3 UN_TER1 UN_TER2  UN_TER3  \\\n",
       "0     NaN   414.0     NaN      NaN   \n",
       "1     NaN   574.0     NaN      NaN   \n",
       "2     NaN   760.0     NaN      NaN   \n",
       "3     NaN     NaN     NaN      NaN   \n",
       "4     NaN   480.0     NaN      NaN   \n",
       "\n",
       "                                            geometry  \n",
       "0  MULTIPOLYGON (((47.97083 29.99681, 47.97161 29...  \n",
       "1  POLYGON ((169.42984 -25.93061, 169.43003 -25.9...  \n",
       "2  POLYGON ((35.91810 35.92989, 35.91752 35.92882...  \n",
       "3  POLYGON ((279.76139 14.67328, 279.76346 14.673...  \n",
       "4  POLYGON ((58.24359 -23.80956, 58.23972 -23.801...  \n",
       "\n",
       "[5 rows x 32 columns]"
      ]
     },
     "execution_count": 5,
     "metadata": {},
     "output_type": "execute_result"
    }
   ],
   "source": [
    "shp.head()"
   ]
  },
  {
   "cell_type": "markdown",
   "id": "b240f90e-062a-418f-bac5-ef55bc48325a",
   "metadata": {},
   "source": [
    "### select only NZ's economic zone"
   ]
  },
  {
   "cell_type": "code",
   "execution_count": 6,
   "id": "70afbb0b-69d2-48fc-a1b5-35022dae51bd",
   "metadata": {},
   "outputs": [],
   "source": [
    "shp = shp.query(\"GEONAME == 'New Zealand Exclusive Economic Zone'\")"
   ]
  },
  {
   "cell_type": "code",
   "execution_count": 7,
   "id": "f9441dbe-1ebe-46d2-8639-a0150cc0d601",
   "metadata": {},
   "outputs": [
    {
     "data": {
      "text/html": [
       "<div>\n",
       "<style scoped>\n",
       "    .dataframe tbody tr th:only-of-type {\n",
       "        vertical-align: middle;\n",
       "    }\n",
       "\n",
       "    .dataframe tbody tr th {\n",
       "        vertical-align: top;\n",
       "    }\n",
       "\n",
       "    .dataframe thead th {\n",
       "        text-align: right;\n",
       "    }\n",
       "</style>\n",
       "<table border=\"1\" class=\"dataframe\">\n",
       "  <thead>\n",
       "    <tr style=\"text-align: right;\">\n",
       "      <th></th>\n",
       "      <th>MRGID</th>\n",
       "      <th>GEONAME</th>\n",
       "      <th>MRGID_TER1</th>\n",
       "      <th>POL_TYPE</th>\n",
       "      <th>MRGID_SOV1</th>\n",
       "      <th>TERRITORY1</th>\n",
       "      <th>ISO_TER1</th>\n",
       "      <th>SOVEREIGN1</th>\n",
       "      <th>MRGID_TER2</th>\n",
       "      <th>MRGID_SOV2</th>\n",
       "      <th>...</th>\n",
       "      <th>ISO_SOV1</th>\n",
       "      <th>ISO_SOV2</th>\n",
       "      <th>ISO_SOV3</th>\n",
       "      <th>UN_SOV1</th>\n",
       "      <th>UN_SOV2</th>\n",
       "      <th>UN_SOV3</th>\n",
       "      <th>UN_TER1</th>\n",
       "      <th>UN_TER2</th>\n",
       "      <th>UN_TER3</th>\n",
       "      <th>geometry</th>\n",
       "    </tr>\n",
       "  </thead>\n",
       "  <tbody>\n",
       "    <tr>\n",
       "      <th>205</th>\n",
       "      <td>8455.0</td>\n",
       "      <td>New Zealand Exclusive Economic Zone</td>\n",
       "      <td>2227.0</td>\n",
       "      <td>200NM</td>\n",
       "      <td>2227.0</td>\n",
       "      <td>New Zealand</td>\n",
       "      <td>NZL</td>\n",
       "      <td>New Zealand</td>\n",
       "      <td>0.0</td>\n",
       "      <td>0.0</td>\n",
       "      <td>...</td>\n",
       "      <td>NZL</td>\n",
       "      <td>None</td>\n",
       "      <td>None</td>\n",
       "      <td>554.0</td>\n",
       "      <td>NaN</td>\n",
       "      <td>NaN</td>\n",
       "      <td>554.0</td>\n",
       "      <td>NaN</td>\n",
       "      <td>NaN</td>\n",
       "      <td>POLYGON ((180.00000 -52.95699, 180.00000 -52.9...</td>\n",
       "    </tr>\n",
       "  </tbody>\n",
       "</table>\n",
       "<p>1 rows × 32 columns</p>\n",
       "</div>"
      ],
      "text/plain": [
       "      MRGID                              GEONAME  MRGID_TER1 POL_TYPE  \\\n",
       "205  8455.0  New Zealand Exclusive Economic Zone      2227.0    200NM   \n",
       "\n",
       "     MRGID_SOV1   TERRITORY1 ISO_TER1   SOVEREIGN1  MRGID_TER2  MRGID_SOV2  \\\n",
       "205      2227.0  New Zealand      NZL  New Zealand         0.0         0.0   \n",
       "\n",
       "     ... ISO_SOV1 ISO_SOV2 ISO_SOV3  UN_SOV1  UN_SOV2 UN_SOV3 UN_TER1 UN_TER2  \\\n",
       "205  ...      NZL     None     None    554.0      NaN     NaN   554.0     NaN   \n",
       "\n",
       "     UN_TER3                                           geometry  \n",
       "205      NaN  POLYGON ((180.00000 -52.95699, 180.00000 -52.9...  \n",
       "\n",
       "[1 rows x 32 columns]"
      ]
     },
     "execution_count": 7,
     "metadata": {},
     "output_type": "execute_result"
    }
   ],
   "source": [
    "shp"
   ]
  },
  {
   "cell_type": "code",
   "execution_count": 8,
   "id": "08a686a9-fc2c-42f8-9bc8-3f6d828d5317",
   "metadata": {},
   "outputs": [
    {
     "data": {
      "text/plain": [
       "<AxesSubplot:>"
      ]
     },
     "execution_count": 8,
     "metadata": {},
     "output_type": "execute_result"
    },
    {
     "data": {
      "image/png": "[encoded data removed]",
      "text/plain": [
       "<Figure size 432x288 with 1 Axes>"
      ]
     },
     "metadata": {
      "needs_background": "light"
     },
     "output_type": "display_data"
    }
   ],
   "source": [
    "shp.plot()"
   ]
  },
  {
   "cell_type": "markdown",
   "id": "3b7830d8-ba3d-44b3-b4aa-f3b80b642f6e",
   "metadata": {},
   "source": [
    "### save to file for later use"
   ]
  },
  {
   "cell_type": "code",
   "execution_count": 9,
   "id": "42ac182a-15ee-42c4-84fe-140b30908557",
   "metadata": {},
   "outputs": [],
   "source": [
    "shp.to_file('../data/NZ_EEZ.GeoJSON', driver='GeoJSON')"
   ]
  },
  {
   "cell_type": "markdown",
   "id": "0ab4125c-8b92-42b8-8be4-70c24a0080ad",
   "metadata": {},
   "source": [
    "### Now reads in the ERSST dataset (from the NOAA's openDAP server)"
   ]
  },
  {
   "cell_type": "code",
   "execution_count": 10,
   "id": "5b564eb1-2854-4c91-8ede-601af73853d1",
   "metadata": {},
   "outputs": [],
   "source": [
    "url = \"http://www.esrl.noaa.gov/psd/thredds/dodsC/Datasets/noaa.ersst.v5/sst.mnmean.nc\"\t\n",
    "ds = xr.open_dataset(url, drop_variables=[\"time_bnds\"])"
   ]
  },
  {
   "cell_type": "markdown",
   "id": "c2579ef3-d43b-4ca7-8e6b-cc826e36de31",
   "metadata": {},
   "source": [
    "### select period here "
   ]
  },
  {
   "cell_type": "code",
   "execution_count": 11,
   "id": "33daf3e2-3cce-489d-9d17-3b093b211523",
   "metadata": {},
   "outputs": [],
   "source": [
    "ds = ds.sel(time=slice('1909','2021'))"
   ]
  },
  {
   "cell_type": "code",
   "execution_count": 12,
   "id": "aa3d3aa5-c161-4fbb-9dc3-2f17c1faaa90",
   "metadata": {},
   "outputs": [
    {
     "data": {
      "text/html": [
       "<div><svg style=\"position: absolute; width: 0; height: 0; overflow: hidden\">\n",
       "<defs>\n",
       "<symbol id=\"icon-database\" viewBox=\"0 0 32 32\">\n",
       "<path d=\"M16 0c-8.837 0-16 2.239-16 5v4c0 2.761 7.163 5 16 5s16-2.239 16-5v-4c0-2.761-7.163-5-16-5z\"></path>\n",
       "<path d=\"M16 17c-8.837 0-16-2.239-16-5v6c0 2.761 7.163 5 16 5s16-2.239 16-5v-6c0 2.761-7.163 5-16 5z\"></path>\n",
       "<path d=\"M16 26c-8.837 0-16-2.239-16-5v6c0 2.761 7.163 5 16 5s16-2.239 16-5v-6c0 2.761-7.163 5-16 5z\"></path>\n",
       "</symbol>\n",
       "<symbol id=\"icon-file-text2\" viewBox=\"0 0 32 32\">\n",
       "<path d=\"M28.681 7.159c-0.694-0.947-1.662-2.053-2.724-3.116s-2.169-2.030-3.116-2.724c-1.612-1.182-2.393-1.319-2.841-1.319h-15.5c-1.378 0-2.5 1.121-2.5 2.5v27c0 1.378 1.122 2.5 2.5 2.5h23c1.378 0 2.5-1.122 2.5-2.5v-19.5c0-0.448-0.137-1.23-1.319-2.841zM24.543 5.457c0.959 0.959 1.712 1.825 2.268 2.543h-4.811v-4.811c0.718 0.556 1.584 1.309 2.543 2.268zM28 29.5c0 0.271-0.229 0.5-0.5 0.5h-23c-0.271 0-0.5-0.229-0.5-0.5v-27c0-0.271 0.229-0.5 0.5-0.5 0 0 15.499-0 15.5 0v7c0 0.552 0.448 1 1 1h7v19.5z\"></path>\n",
       "<path d=\"M23 26h-14c-0.552 0-1-0.448-1-1s0.448-1 1-1h14c0.552 0 1 0.448 1 1s-0.448 1-1 1z\"></path>\n",
       "<path d=\"M23 22h-14c-0.552 0-1-0.448-1-1s0.448-1 1-1h14c0.552 0 1 0.448 1 1s-0.448 1-1 1z\"></path>\n",
       "<path d=\"M23 18h-14c-0.552 0-1-0.448-1-1s0.448-1 1-1h14c0.552 0 1 0.448 1 1s-0.448 1-1 1z\"></path>\n",
       "</symbol>\n",
       "</defs>\n",
       "</svg>\n",
       "<style>/* CSS stylesheet for displaying xarray objects in jupyterlab.\n",
       " *\n",
       " */\n",
       "\n",
       ":root {\n",
       "  --xr-font-color0: var(--jp-content-font-color0, rgba(0, 0, 0, 1));\n",
       "  --xr-font-color2: var(--jp-content-font-color2, rgba(0, 0, 0, 0.54));\n",
       "  --xr-font-color3: var(--jp-content-font-color3, rgba(0, 0, 0, 0.38));\n",
       "  --xr-border-color: var(--jp-border-color2, #e0e0e0);\n",
       "  --xr-disabled-color: var(--jp-layout-color3, #bdbdbd);\n",
       "  --xr-background-color: var(--jp-layout-color0, white);\n",
       "  --xr-background-color-row-even: var(--jp-layout-color1, white);\n",
       "  --xr-background-color-row-odd: var(--jp-layout-color2, #eeeeee);\n",
       "}\n",
       "\n",
       "html[theme=dark],\n",
       "body.vscode-dark {\n",
       "  --xr-font-color0: rgba(255, 255, 255, 1);\n",
       "  --xr-font-color2: rgba(255, 255, 255, 0.54);\n",
       "  --xr-font-color3: rgba(255, 255, 255, 0.38);\n",
       "  --xr-border-color: #1F1F1F;\n",
       "  --xr-disabled-color: #515151;\n",
       "  --xr-background-color: #111111;\n",
       "  --xr-background-color-row-even: #111111;\n",
       "  --xr-background-color-row-odd: #313131;\n",
       "}\n",
       "\n",
       ".xr-wrap {\n",
       "  display: block !important;\n",
       "  min-width: 300px;\n",
       "  max-width: 700px;\n",
       "}\n",
       "\n",
       ".xr-text-repr-fallback {\n",
       "  /* fallback to plain text repr when CSS is not injected (untrusted notebook) */\n",
       "  display: none;\n",
       "}\n",
       "\n",
       ".xr-header {\n",
       "  padding-top: 6px;\n",
       "  padding-bottom: 6px;\n",
       "  margin-bottom: 4px;\n",
       "  border-bottom: solid 1px var(--xr-border-color);\n",
       "}\n",
       "\n",
       ".xr-header > div,\n",
       ".xr-header > ul {\n",
       "  display: inline;\n",
       "  margin-top: 0;\n",
       "  margin-bottom: 0;\n",
       "}\n",
       "\n",
       ".xr-obj-type,\n",
       ".xr-array-name {\n",
       "  margin-left: 2px;\n",
       "  margin-right: 10px;\n",
       "}\n",
       "\n",
       ".xr-obj-type {\n",
       "  color: var(--xr-font-color2);\n",
       "}\n",
       "\n",
       ".xr-sections {\n",
       "  padding-left: 0 !important;\n",
       "  display: grid;\n",
       "  grid-template-columns: 150px auto auto 1fr 20px 20px;\n",
       "}\n",
       "\n",
       ".xr-section-item {\n",
       "  display: contents;\n",
       "}\n",
       "\n",
       ".xr-section-item input {\n",
       "  display: none;\n",
       "}\n",
       "\n",
       ".xr-section-item input + label {\n",
       "  color: var(--xr-disabled-color);\n",
       "}\n",
       "\n",
       ".xr-section-item input:enabled + label {\n",
       "  cursor: pointer;\n",
       "  color: var(--xr-font-color2);\n",
       "}\n",
       "\n",
       ".xr-section-item input:enabled + label:hover {\n",
       "  color: var(--xr-font-color0);\n",
       "}\n",
       "\n",
       ".xr-section-summary {\n",
       "  grid-column: 1;\n",
       "  color: var(--xr-font-color2);\n",
       "  font-weight: 500;\n",
       "}\n",
       "\n",
       ".xr-section-summary > span {\n",
       "  display: inline-block;\n",
       "  padding-left: 0.5em;\n",
       "}\n",
       "\n",
       ".xr-section-summary-in:disabled + label {\n",
       "  color: var(--xr-font-color2);\n",
       "}\n",
       "\n",
       ".xr-section-summary-in + label:before {\n",
       "  display: inline-block;\n",
       "  content: '►';\n",
       "  font-size: 11px;\n",
       "  width: 15px;\n",
       "  text-align: center;\n",
       "}\n",
       "\n",
       ".xr-section-summary-in:disabled + label:before {\n",
       "  color: var(--xr-disabled-color);\n",
       "}\n",
       "\n",
       ".xr-section-summary-in:checked + label:before {\n",
       "  content: '▼';\n",
       "}\n",
       "\n",
       ".xr-section-summary-in:checked + label > span {\n",
       "  display: none;\n",
       "}\n",
       "\n",
       ".xr-section-summary,\n",
       ".xr-section-inline-details {\n",
       "  padding-top: 4px;\n",
       "  padding-bottom: 4px;\n",
       "}\n",
       "\n",
       ".xr-section-inline-details {\n",
       "  grid-column: 2 / -1;\n",
       "}\n",
       "\n",
       ".xr-section-details {\n",
       "  display: none;\n",
       "  grid-column: 1 / -1;\n",
       "  margin-bottom: 5px;\n",
       "}\n",
       "\n",
       ".xr-section-summary-in:checked ~ .xr-section-details {\n",
       "  display: contents;\n",
       "}\n",
       "\n",
       ".xr-array-wrap {\n",
       "  grid-column: 1 / -1;\n",
       "  display: grid;\n",
       "  grid-template-columns: 20px auto;\n",
       "}\n",
       "\n",
       ".xr-array-wrap > label {\n",
       "  grid-column: 1;\n",
       "  vertical-align: top;\n",
       "}\n",
       "\n",
       ".xr-preview {\n",
       "  color: var(--xr-font-color3);\n",
       "}\n",
       "\n",
       ".xr-array-preview,\n",
       ".xr-array-data {\n",
       "  padding: 0 5px !important;\n",
       "  grid-column: 2;\n",
       "}\n",
       "\n",
       ".xr-array-data,\n",
       ".xr-array-in:checked ~ .xr-array-preview {\n",
       "  display: none;\n",
       "}\n",
       "\n",
       ".xr-array-in:checked ~ .xr-array-data,\n",
       ".xr-array-preview {\n",
       "  display: inline-block;\n",
       "}\n",
       "\n",
       ".xr-dim-list {\n",
       "  display: inline-block !important;\n",
       "  list-style: none;\n",
       "  padding: 0 !important;\n",
       "  margin: 0;\n",
       "}\n",
       "\n",
       ".xr-dim-list li {\n",
       "  display: inline-block;\n",
       "  padding: 0;\n",
       "  margin: 0;\n",
       "}\n",
       "\n",
       ".xr-dim-list:before {\n",
       "  content: '(';\n",
       "}\n",
       "\n",
       ".xr-dim-list:after {\n",
       "  content: ')';\n",
       "}\n",
       "\n",
       ".xr-dim-list li:not(:last-child):after {\n",
       "  content: ',';\n",
       "  padding-right: 5px;\n",
       "}\n",
       "\n",
       ".xr-has-index {\n",
       "  font-weight: bold;\n",
       "}\n",
       "\n",
       ".xr-var-list,\n",
       ".xr-var-item {\n",
       "  display: contents;\n",
       "}\n",
       "\n",
       ".xr-var-item > div,\n",
       ".xr-var-item label,\n",
       ".xr-var-item > .xr-var-name span {\n",
       "  background-color: var(--xr-background-color-row-even);\n",
       "  margin-bottom: 0;\n",
       "}\n",
       "\n",
       ".xr-var-item > .xr-var-name:hover span {\n",
       "  padding-right: 5px;\n",
       "}\n",
       "\n",
       ".xr-var-list > li:nth-child(odd) > div,\n",
       ".xr-var-list > li:nth-child(odd) > label,\n",
       ".xr-var-list > li:nth-child(odd) > .xr-var-name span {\n",
       "  background-color: var(--xr-background-color-row-odd);\n",
       "}\n",
       "\n",
       ".xr-var-name {\n",
       "  grid-column: 1;\n",
       "}\n",
       "\n",
       ".xr-var-dims {\n",
       "  grid-column: 2;\n",
       "}\n",
       "\n",
       ".xr-var-dtype {\n",
       "  grid-column: 3;\n",
       "  text-align: right;\n",
       "  color: var(--xr-font-color2);\n",
       "}\n",
       "\n",
       ".xr-var-preview {\n",
       "  grid-column: 4;\n",
       "}\n",
       "\n",
       ".xr-var-name,\n",
       ".xr-var-dims,\n",
       ".xr-var-dtype,\n",
       ".xr-preview,\n",
       ".xr-attrs dt {\n",
       "  white-space: nowrap;\n",
       "  overflow: hidden;\n",
       "  text-overflow: ellipsis;\n",
       "  padding-right: 10px;\n",
       "}\n",
       "\n",
       ".xr-var-name:hover,\n",
       ".xr-var-dims:hover,\n",
       ".xr-var-dtype:hover,\n",
       ".xr-attrs dt:hover {\n",
       "  overflow: visible;\n",
       "  width: auto;\n",
       "  z-index: 1;\n",
       "}\n",
       "\n",
       ".xr-var-attrs,\n",
       ".xr-var-data {\n",
       "  display: none;\n",
       "  background-color: var(--xr-background-color) !important;\n",
       "  padding-bottom: 5px !important;\n",
       "}\n",
       "\n",
       ".xr-var-attrs-in:checked ~ .xr-var-attrs,\n",
       ".xr-var-data-in:checked ~ .xr-var-data {\n",
       "  display: block;\n",
       "}\n",
       "\n",
       ".xr-var-data > table {\n",
       "  float: right;\n",
       "}\n",
       "\n",
       ".xr-var-name span,\n",
       ".xr-var-data,\n",
       ".xr-attrs {\n",
       "  padding-left: 25px !important;\n",
       "}\n",
       "\n",
       ".xr-attrs,\n",
       ".xr-var-attrs,\n",
       ".xr-var-data {\n",
       "  grid-column: 1 / -1;\n",
       "}\n",
       "\n",
       "dl.xr-attrs {\n",
       "  padding: 0;\n",
       "  margin: 0;\n",
       "  display: grid;\n",
       "  grid-template-columns: 125px auto;\n",
       "}\n",
       "\n",
       ".xr-attrs dt,\n",
       ".xr-attrs dd {\n",
       "  padding: 0;\n",
       "  margin: 0;\n",
       "  float: left;\n",
       "  padding-right: 10px;\n",
       "  width: auto;\n",
       "}\n",
       "\n",
       ".xr-attrs dt {\n",
       "  font-weight: normal;\n",
       "  grid-column: 1;\n",
       "}\n",
       "\n",
       ".xr-attrs dt:hover span {\n",
       "  display: inline-block;\n",
       "  background: var(--xr-background-color);\n",
       "  padding-right: 10px;\n",
       "}\n",
       "\n",
       ".xr-attrs dd {\n",
       "  grid-column: 2;\n",
       "  white-space: pre-wrap;\n",
       "  word-break: break-all;\n",
       "}\n",
       "\n",
       ".xr-icon-database,\n",
       ".xr-icon-file-text2 {\n",
       "  display: inline-block;\n",
       "  vertical-align: middle;\n",
       "  width: 1em;\n",
       "  height: 1.5em !important;\n",
       "  stroke-width: 0;\n",
       "  stroke: currentColor;\n",
       "  fill: currentColor;\n",
       "}\n",
       "</style><pre class='xr-text-repr-fallback'>&lt;xarray.Dataset&gt;\n",
       "Dimensions:  (lat: 89, lon: 180, time: 1356)\n",
       "Coordinates:\n",
       "  * lat      (lat) float32 88.0 86.0 84.0 82.0 80.0 ... -82.0 -84.0 -86.0 -88.0\n",
       "  * lon      (lon) float32 0.0 2.0 4.0 6.0 8.0 ... 350.0 352.0 354.0 356.0 358.0\n",
       "  * time     (time) datetime64[ns] 1909-01-01 1909-02-01 ... 2021-12-01\n",
       "Data variables:\n",
       "    sst      (time, lat, lon) float32 ...\n",
       "Attributes: (12/38)\n",
       "    climatology:                     Climatology is based on 1971-2000 SST, X...\n",
       "    description:                     In situ data: ICOADS2.5 before 2007 and ...\n",
       "    keywords_vocabulary:             NASA Global Change Master Directory (GCM...\n",
       "    keywords:                        Earth Science &gt; Oceans &gt; Ocean Temperatu...\n",
       "    instrument:                      Conventional thermometers\n",
       "    source_comment:                  SSTs were observed by conventional therm...\n",
       "    ...                              ...\n",
       "    license:                         No constraints on data access or use\n",
       "    comment:                         SSTs were observed by conventional therm...\n",
       "    summary:                         ERSST.v5 is developed based on v4 after ...\n",
       "    dataset_title:                   NOAA Extended Reconstructed SST V5\n",
       "    data_modified:                   2022-02-01\n",
       "    DODS_EXTRA.Unlimited_Dimension:  time</pre><div class='xr-wrap' style='display:none'><div class='xr-header'><div class='xr-obj-type'>xarray.Dataset</div></div><ul class='xr-sections'><li class='xr-section-item'><input id='section-75ee7f0b-ef27-41ee-92ad-a2191ee5dccc' class='xr-section-summary-in' type='checkbox' disabled ><label for='section-75ee7f0b-ef27-41ee-92ad-a2191ee5dccc' class='xr-section-summary'  title='Expand/collapse section'>Dimensions:</label><div class='xr-section-inline-details'><ul class='xr-dim-list'><li><span class='xr-has-index'>lat</span>: 89</li><li><span class='xr-has-index'>lon</span>: 180</li><li><span class='xr-has-index'>time</span>: 1356</li></ul></div><div class='xr-section-details'></div></li><li class='xr-section-item'><input id='section-b95e6f05-44bd-4262-9e33-60fd9c13888a' class='xr-section-summary-in' type='checkbox'  checked><label for='section-b95e6f05-44bd-4262-9e33-60fd9c13888a' class='xr-section-summary' >Coordinates: <span>(3)</span></label><div class='xr-section-inline-details'></div><div class='xr-section-details'><ul class='xr-var-list'><li class='xr-var-item'><div class='xr-var-name'><span class='xr-has-index'>lat</span></div><div class='xr-var-dims'>(lat)</div><div class='xr-var-dtype'>float32</div><div class='xr-var-preview xr-preview'>88.0 86.0 84.0 ... -86.0 -88.0</div><input id='attrs-3bd4d143-26c8-4817-a8af-223a1a09081b' class='xr-var-attrs-in' type='checkbox' ><label for='attrs-3bd4d143-26c8-4817-a8af-223a1a09081b' title='Show/Hide attributes'><svg class='icon xr-icon-file-text2'><use xlink:href='#icon-file-text2'></use></svg></label><input id='data-dd16fcfe-d8e3-462a-b778-ff9007742b5a' class='xr-var-data-in' type='checkbox'><label for='data-dd16fcfe-d8e3-462a-b778-ff9007742b5a' title='Show/Hide data repr'><svg class='icon xr-icon-database'><use xlink:href='#icon-database'></use></svg></label><div class='xr-var-attrs'><dl class='xr-attrs'><dt><span>units :</span></dt><dd>degrees_north</dd><dt><span>long_name :</span></dt><dd>Latitude</dd><dt><span>actual_range :</span></dt><dd>[ 88. -88.]</dd><dt><span>standard_name :</span></dt><dd>latitude</dd><dt><span>axis :</span></dt><dd>Y</dd><dt><span>coordinate_defines :</span></dt><dd>center</dd></dl></div><div class='xr-var-data'><pre>array([ 88.,  86.,  84.,  82.,  80.,  78.,  76.,  74.,  72.,  70.,  68.,  66.,\n",
       "        64.,  62.,  60.,  58.,  56.,  54.,  52.,  50.,  48.,  46.,  44.,  42.,\n",
       "        40.,  38.,  36.,  34.,  32.,  30.,  28.,  26.,  24.,  22.,  20.,  18.,\n",
       "        16.,  14.,  12.,  10.,   8.,   6.,   4.,   2.,   0.,  -2.,  -4.,  -6.,\n",
       "        -8., -10., -12., -14., -16., -18., -20., -22., -24., -26., -28., -30.,\n",
       "       -32., -34., -36., -38., -40., -42., -44., -46., -48., -50., -52., -54.,\n",
       "       -56., -58., -60., -62., -64., -66., -68., -70., -72., -74., -76., -78.,\n",
       "       -80., -82., -84., -86., -88.], dtype=float32)</pre></div></li><li class='xr-var-item'><div class='xr-var-name'><span class='xr-has-index'>lon</span></div><div class='xr-var-dims'>(lon)</div><div class='xr-var-dtype'>float32</div><div class='xr-var-preview xr-preview'>0.0 2.0 4.0 ... 354.0 356.0 358.0</div><input id='attrs-efcaf1ff-1348-4a01-a0cb-0f0fb96d3a0d' class='xr-var-attrs-in' type='checkbox' ><label for='attrs-efcaf1ff-1348-4a01-a0cb-0f0fb96d3a0d' title='Show/Hide attributes'><svg class='icon xr-icon-file-text2'><use xlink:href='#icon-file-text2'></use></svg></label><input id='data-d09848d3-5190-4c46-bbac-24904939b877' class='xr-var-data-in' type='checkbox'><label for='data-d09848d3-5190-4c46-bbac-24904939b877' title='Show/Hide data repr'><svg class='icon xr-icon-database'><use xlink:href='#icon-database'></use></svg></label><div class='xr-var-attrs'><dl class='xr-attrs'><dt><span>units :</span></dt><dd>degrees_east</dd><dt><span>long_name :</span></dt><dd>Longitude</dd><dt><span>actual_range :</span></dt><dd>[  0. 358.]</dd><dt><span>standard_name :</span></dt><dd>longitude</dd><dt><span>axis :</span></dt><dd>X</dd><dt><span>coordinate_defines :</span></dt><dd>center</dd></dl></div><div class='xr-var-data'><pre>array([  0.,   2.,   4.,   6.,   8.,  10.,  12.,  14.,  16.,  18.,  20.,  22.,\n",
       "        24.,  26.,  28.,  30.,  32.,  34.,  36.,  38.,  40.,  42.,  44.,  46.,\n",
       "        48.,  50.,  52.,  54.,  56.,  58.,  60.,  62.,  64.,  66.,  68.,  70.,\n",
       "        72.,  74.,  76.,  78.,  80.,  82.,  84.,  86.,  88.,  90.,  92.,  94.,\n",
       "        96.,  98., 100., 102., 104., 106., 108., 110., 112., 114., 116., 118.,\n",
       "       120., 122., 124., 126., 128., 130., 132., 134., 136., 138., 140., 142.,\n",
       "       144., 146., 148., 150., 152., 154., 156., 158., 160., 162., 164., 166.,\n",
       "       168., 170., 172., 174., 176., 178., 180., 182., 184., 186., 188., 190.,\n",
       "       192., 194., 196., 198., 200., 202., 204., 206., 208., 210., 212., 214.,\n",
       "       216., 218., 220., 222., 224., 226., 228., 230., 232., 234., 236., 238.,\n",
       "       240., 242., 244., 246., 248., 250., 252., 254., 256., 258., 260., 262.,\n",
       "       264., 266., 268., 270., 272., 274., 276., 278., 280., 282., 284., 286.,\n",
       "       288., 290., 292., 294., 296., 298., 300., 302., 304., 306., 308., 310.,\n",
       "       312., 314., 316., 318., 320., 322., 324., 326., 328., 330., 332., 334.,\n",
       "       336., 338., 340., 342., 344., 346., 348., 350., 352., 354., 356., 358.],\n",
       "      dtype=float32)</pre></div></li><li class='xr-var-item'><div class='xr-var-name'><span class='xr-has-index'>time</span></div><div class='xr-var-dims'>(time)</div><div class='xr-var-dtype'>datetime64[ns]</div><div class='xr-var-preview xr-preview'>1909-01-01 ... 2021-12-01</div><input id='attrs-54938b1a-2c65-42c8-9575-c0bc12cc75b6' class='xr-var-attrs-in' type='checkbox' ><label for='attrs-54938b1a-2c65-42c8-9575-c0bc12cc75b6' title='Show/Hide attributes'><svg class='icon xr-icon-file-text2'><use xlink:href='#icon-file-text2'></use></svg></label><input id='data-d98bc110-12ea-44c5-a99e-6302762b1606' class='xr-var-data-in' type='checkbox'><label for='data-d98bc110-12ea-44c5-a99e-6302762b1606' title='Show/Hide data repr'><svg class='icon xr-icon-database'><use xlink:href='#icon-database'></use></svg></label><div class='xr-var-attrs'><dl class='xr-attrs'><dt><span>long_name :</span></dt><dd>Time</dd><dt><span>delta_t :</span></dt><dd>0000-01-00 00:00:00</dd><dt><span>avg_period :</span></dt><dd>0000-01-00 00:00:00</dd><dt><span>prev_avg_period :</span></dt><dd>0000-00-07 00:00:00</dd><dt><span>standard_name :</span></dt><dd>time</dd><dt><span>axis :</span></dt><dd>T</dd><dt><span>actual_range :</span></dt><dd>[19723. 81053.]</dd><dt><span>_ChunkSizes :</span></dt><dd>1</dd></dl></div><div class='xr-var-data'><pre>array([&#x27;1909-01-01T00:00:00.000000000&#x27;, &#x27;1909-02-01T00:00:00.000000000&#x27;,\n",
       "       &#x27;1909-03-01T00:00:00.000000000&#x27;, ..., &#x27;2021-10-01T00:00:00.000000000&#x27;,\n",
       "       &#x27;2021-11-01T00:00:00.000000000&#x27;, &#x27;2021-12-01T00:00:00.000000000&#x27;],\n",
       "      dtype=&#x27;datetime64[ns]&#x27;)</pre></div></li></ul></div></li><li class='xr-section-item'><input id='section-9d6c0e82-409a-4d46-95bc-c9d3483bcb2c' class='xr-section-summary-in' type='checkbox'  checked><label for='section-9d6c0e82-409a-4d46-95bc-c9d3483bcb2c' class='xr-section-summary' >Data variables: <span>(1)</span></label><div class='xr-section-inline-details'></div><div class='xr-section-details'><ul class='xr-var-list'><li class='xr-var-item'><div class='xr-var-name'><span>sst</span></div><div class='xr-var-dims'>(time, lat, lon)</div><div class='xr-var-dtype'>float32</div><div class='xr-var-preview xr-preview'>...</div><input id='attrs-6b497210-fdfb-4a5e-b98d-7628b27f3964' class='xr-var-attrs-in' type='checkbox' ><label for='attrs-6b497210-fdfb-4a5e-b98d-7628b27f3964' title='Show/Hide attributes'><svg class='icon xr-icon-file-text2'><use xlink:href='#icon-file-text2'></use></svg></label><input id='data-bb96c527-b4ff-4d85-a956-7d189ab91f78' class='xr-var-data-in' type='checkbox'><label for='data-bb96c527-b4ff-4d85-a956-7d189ab91f78' title='Show/Hide data repr'><svg class='icon xr-icon-database'><use xlink:href='#icon-database'></use></svg></label><div class='xr-var-attrs'><dl class='xr-attrs'><dt><span>long_name :</span></dt><dd>Monthly Means of Sea Surface Temperature</dd><dt><span>units :</span></dt><dd>degC</dd><dt><span>var_desc :</span></dt><dd>Sea Surface Temperature</dd><dt><span>level_desc :</span></dt><dd>Surface</dd><dt><span>statistic :</span></dt><dd>Mean</dd><dt><span>dataset :</span></dt><dd>NOAA Extended Reconstructed SST V5</dd><dt><span>parent_stat :</span></dt><dd>Individual Values</dd><dt><span>actual_range :</span></dt><dd>[-1.8     42.32636]</dd><dt><span>valid_range :</span></dt><dd>[-1.8 45. ]</dd><dt><span>_ChunkSizes :</span></dt><dd>[  1  89 180]</dd></dl></div><div class='xr-var-data'><pre>[21723120 values with dtype=float32]</pre></div></li></ul></div></li><li class='xr-section-item'><input id='section-770b91f2-09fe-471e-b717-829e2eeca95c' class='xr-section-summary-in' type='checkbox'  ><label for='section-770b91f2-09fe-471e-b717-829e2eeca95c' class='xr-section-summary' >Attributes: <span>(38)</span></label><div class='xr-section-inline-details'></div><div class='xr-section-details'><dl class='xr-attrs'><dt><span>climatology :</span></dt><dd>Climatology is based on 1971-2000 SST, Xue, Y., T. M. Smith, and R. W. Reynolds, 2003: Interdecadal changes of 30-yr SST normals during 1871.2000. Journal of Climate, 16, 1601-1612.</dd><dt><span>description :</span></dt><dd>In situ data: ICOADS2.5 before 2007 and NCEP in situ data from 2008 to present. Ice data: HadISST ice before 2010 and NCEP ice after 2010.</dd><dt><span>keywords_vocabulary :</span></dt><dd>NASA Global Change Master Directory (GCMD) Science Keywords</dd><dt><span>keywords :</span></dt><dd>Earth Science &gt; Oceans &gt; Ocean Temperature &gt; Sea Surface Temperature &gt;</dd><dt><span>instrument :</span></dt><dd>Conventional thermometers</dd><dt><span>source_comment :</span></dt><dd>SSTs were observed by conventional thermometers in Buckets (insulated or un-insulated canvas and wooded buckets) or Engine Room Intaker</dd><dt><span>geospatial_lon_min :</span></dt><dd>-1.0</dd><dt><span>geospatial_lon_max :</span></dt><dd>359.0</dd><dt><span>geospatial_laty_max :</span></dt><dd>89.0</dd><dt><span>geospatial_laty_min :</span></dt><dd>-89.0</dd><dt><span>geospatial_lat_max :</span></dt><dd>89.0</dd><dt><span>geospatial_lat_min :</span></dt><dd>-89.0</dd><dt><span>geospatial_lat_units :</span></dt><dd>degrees_north</dd><dt><span>geospatial_lon_units :</span></dt><dd>degrees_east</dd><dt><span>cdm_data_type :</span></dt><dd>Grid</dd><dt><span>project :</span></dt><dd>NOAA Extended Reconstructed Sea Surface Temperature (ERSST)</dd><dt><span>original_publisher_url :</span></dt><dd>http://www.ncdc.noaa.gov</dd><dt><span>References :</span></dt><dd>https://www.ncdc.noaa.gov/data-access/marineocean-data/extended-reconstructed-sea-surface-temperature-ersst-v5 at NCEI and http://www.esrl.noaa.gov/psd/data/gridded/data.noaa.ersst.v5.html</dd><dt><span>source :</span></dt><dd>In situ data: ICOADS R3.0 before 2015, NCEP in situ GTS from 2016 to present, and Argo SST from 1999 to present. Ice data: HadISST2 ice before 2015, and NCEP ice after 2015</dd><dt><span>title :</span></dt><dd>NOAA ERSSTv5 (in situ only)</dd><dt><span>history :</span></dt><dd>created 07/2017 by PSD data using NCEI&#x27;s ERSST V5 NetCDF values</dd><dt><span>institution :</span></dt><dd>This version written at NOAA/ESRL PSD: obtained from NOAA/NESDIS/National Centers for Environmental Information and time aggregated. Original Full Source: NOAA/NESDIS/NCEI/CCOG</dd><dt><span>citation :</span></dt><dd>Huang et al, 2017: Extended Reconstructed Sea Surface Temperatures Version 5 (ERSSTv5): Upgrades, Validations, and Intercomparisons. Journal of Climate, https://doi.org/10.1175/JCLI-D-16-0836.1</dd><dt><span>platform :</span></dt><dd>Ship and Buoy SSTs from ICOADS R3.0 and NCEP GTS</dd><dt><span>standard_name_vocabulary :</span></dt><dd>CF Standard Name Table (v40, 25 January 2017)</dd><dt><span>processing_level :</span></dt><dd>NOAA Level 4</dd><dt><span>Conventions :</span></dt><dd>CF-1.6, ACDD-1.3</dd><dt><span>metadata_link :</span></dt><dd>:metadata_link = https://doi.org/10.7289/V5T72FNM (original format)</dd><dt><span>creator_name :</span></dt><dd>Boyin Huang (original)</dd><dt><span>date_created :</span></dt><dd>2017-06-30T12:18:00Z (original)</dd><dt><span>product_version :</span></dt><dd>Version 5</dd><dt><span>creator_url_original :</span></dt><dd>https://www.ncei.noaa.gov</dd><dt><span>license :</span></dt><dd>No constraints on data access or use</dd><dt><span>comment :</span></dt><dd>SSTs were observed by conventional thermometers in Buckets (insulated or un-insulated canvas and wooded buckets), Engine Room Intakers, or floats and drifters</dd><dt><span>summary :</span></dt><dd>ERSST.v5 is developed based on v4 after revisions of 8 parameters using updated data sets and advanced knowledge of ERSST analysis</dd><dt><span>dataset_title :</span></dt><dd>NOAA Extended Reconstructed SST V5</dd><dt><span>data_modified :</span></dt><dd>2022-02-01</dd><dt><span>DODS_EXTRA.Unlimited_Dimension :</span></dt><dd>time</dd></dl></div></li></ul></div></div>"
      ],
      "text/plain": [
       "<xarray.Dataset>\n",
       "Dimensions:  (lat: 89, lon: 180, time: 1356)\n",
       "Coordinates:\n",
       "  * lat      (lat) float32 88.0 86.0 84.0 82.0 80.0 ... -82.0 -84.0 -86.0 -88.0\n",
       "  * lon      (lon) float32 0.0 2.0 4.0 6.0 8.0 ... 350.0 352.0 354.0 356.0 358.0\n",
       "  * time     (time) datetime64[ns] 1909-01-01 1909-02-01 ... 2021-12-01\n",
       "Data variables:\n",
       "    sst      (time, lat, lon) float32 ...\n",
       "Attributes: (12/38)\n",
       "    climatology:                     Climatology is based on 1971-2000 SST, X...\n",
       "    description:                     In situ data: ICOADS2.5 before 2007 and ...\n",
       "    keywords_vocabulary:             NASA Global Change Master Directory (GCM...\n",
       "    keywords:                        Earth Science > Oceans > Ocean Temperatu...\n",
       "    instrument:                      Conventional thermometers\n",
       "    source_comment:                  SSTs were observed by conventional therm...\n",
       "    ...                              ...\n",
       "    license:                         No constraints on data access or use\n",
       "    comment:                         SSTs were observed by conventional therm...\n",
       "    summary:                         ERSST.v5 is developed based on v4 after ...\n",
       "    dataset_title:                   NOAA Extended Reconstructed SST V5\n",
       "    data_modified:                   2022-02-01\n",
       "    DODS_EXTRA.Unlimited_Dimension:  time"
      ]
     },
     "execution_count": 12,
     "metadata": {},
     "output_type": "execute_result"
    }
   ],
   "source": [
    "ds"
   ]
  },
  {
   "cell_type": "markdown",
   "id": "25187443-28d6-49c3-9dbe-d243ee9e20fd",
   "metadata": {},
   "source": [
    "### flip the latitudes "
   ]
  },
  {
   "cell_type": "code",
   "execution_count": 13,
   "id": "242e10ce-20f9-4a60-b2a3-a787b2d7a7e9",
   "metadata": {},
   "outputs": [],
   "source": [
    "ds = ds.sortby('lat')"
   ]
  },
  {
   "cell_type": "markdown",
   "id": "75b4e3c1-be0c-4301-923a-103201e5e8eb",
   "metadata": {},
   "source": [
    "### quick plots to check values "
   ]
  },
  {
   "cell_type": "code",
   "execution_count": 14,
   "id": "76aaa732-f409-4c96-9816-d1fe9af392dd",
   "metadata": {},
   "outputs": [
    {
     "data": {
      "text/plain": [
       "<matplotlib.collections.QuadMesh at 0x7f2114d7a640>"
      ]
     },
     "execution_count": 14,
     "metadata": {},
     "output_type": "execute_result"
    },
    {
     "data": {
      "image/png": "[encoded data removed]",
      "text/plain": [
       "<Figure size 432x288 with 2 Axes>"
      ]
     },
     "metadata": {
      "needs_background": "light"
     },
     "output_type": "display_data"
    }
   ],
   "source": [
    "ds['sst'][0,:,:].plot()"
   ]
  },
  {
   "cell_type": "code",
   "execution_count": 15,
   "id": "dde65318-f891-4edb-998b-21574a78ffe0",
   "metadata": {},
   "outputs": [
    {
     "data": {
      "text/plain": [
       "<matplotlib.collections.QuadMesh at 0x7f210c047d30>"
      ]
     },
     "execution_count": 15,
     "metadata": {},
     "output_type": "execute_result"
    },
    {
     "data": {
      "image/png": "[encoded data removed]",
      "text/plain": [
       "<Figure size 432x288 with 2 Axes>"
      ]
     },
     "metadata": {
      "needs_background": "light"
     },
     "output_type": "display_data"
    }
   ],
   "source": [
    "ds['sst'][-1,:,:].plot()"
   ]
  },
  {
   "cell_type": "markdown",
   "id": "7421a02a-5fea-44fa-87ae-136d4d99444b",
   "metadata": {},
   "source": [
    "### function to create a mask from a geopandas dataframe containing polygons"
   ]
  },
  {
   "cell_type": "code",
   "execution_count": 16,
   "id": "57ad5c08-238a-4c72-81d5-dd6e8adce77a",
   "metadata": {},
   "outputs": [],
   "source": [
    "def make_mask_from_gpd(dset, gpd_dataframe, lon_name='lon', lat_name='lat', subset=True, insert=True, domain_buffer=0.1, mask_name=None): \n",
    "\n",
    "    # region from geopandas \n",
    "    region = regionmask.from_geopandas(gpd_dataframe)\n",
    "    \n",
    "    if subset: # if subset is True, we also subset the input dataset given the region_mask\n",
    "        \n",
    "        lon_min = region.bounds_global[0] - domain_buffer\n",
    "        lon_max = region.bounds_global[2] + domain_buffer\n",
    "        lat_min = region.bounds_global[1] - domain_buffer\n",
    "        lat_max = region.bounds_global[3] + domain_buffer\n",
    "        \n",
    "        dset = dset.sel({lon_name:slice(lon_min, lon_max), lat_name:slice(lat_min, lat_max)})\n",
    "    \n",
    "    # create a mask \n",
    "    \n",
    "    mask = region.mask(dset, lon_name=lon_name, lat_name=lat_name)\n",
    "    \n",
    "    # make sure that the values are either np.NaN or 1.\n",
    "    \n",
    "    mask = mask.where(np.isnan(mask), 1)\n",
    "    \n",
    "    if insert: # if insert is True, we return the original (or subsetted dataset with the mask)\n",
    "        \n",
    "        if mask_name is not None:\n",
    "            \n",
    "            dset[mask_name] = mask \n",
    "        \n",
    "        else: \n",
    "            \n",
    "            dset['mask'] = mask\n",
    "            \n",
    "        return dset \n",
    "    \n",
    "    else: \n",
    "        \n",
    "        return mask "
   ]
  },
  {
   "cell_type": "code",
   "execution_count": 17,
   "id": "5da63f45-8889-4895-9680-c458fabf2910",
   "metadata": {},
   "outputs": [],
   "source": [
    "ds = make_mask_from_gpd(ds, shp, insert=True)"
   ]
  },
  {
   "cell_type": "markdown",
   "id": "9eb2f3da-6cda-42b8-9b31-4e922729a942",
   "metadata": {},
   "source": [
    "### the dataset is now subsetted "
   ]
  },
  {
   "cell_type": "code",
   "execution_count": 18,
   "id": "003720a5-3a99-48de-bac1-07dc033f520b",
   "metadata": {},
   "outputs": [
    {
     "data": {
      "text/plain": [
       "<GeoAxesSubplot:title={'center':'time = 2021-12-01'}, xlabel='lon', ylabel='lat'>"
      ]
     },
     "execution_count": 18,
     "metadata": {},
     "output_type": "execute_result"
    },
    {
     "data": {
      "image/png": "[encoded data removed]",
      "text/plain": [
       "<Figure size 432x288 with 2 Axes>"
      ]
     },
     "metadata": {
      "needs_background": "light"
     },
     "output_type": "display_data"
    }
   ],
   "source": [
    "f, ax = plt.subplots(subplot_kw=dict(projection=ccrs.PlateCarree(central_longitude=180)))\n",
    "ds['sst'][-1,:,:].plot(ax=ax, transform=ccrs.PlateCarree())\n",
    "shp.boundary.plot(ax=ax, transform=ccrs.PlateCarree(), color='k', linewidth=0.8)"
   ]
  },
  {
   "cell_type": "markdown",
   "id": "5b8b4ee0-5023-42e1-b04a-2a54623c2ff4",
   "metadata": {},
   "source": [
    "### mask"
   ]
  },
  {
   "cell_type": "code",
   "execution_count": 19,
   "id": "8d13fec7-5f44-4315-ac24-bceae513c59c",
   "metadata": {},
   "outputs": [
    {
     "data": {
      "text/plain": [
       "<GeoAxesSubplot:xlabel='lon', ylabel='lat'>"
      ]
     },
     "execution_count": 19,
     "metadata": {},
     "output_type": "execute_result"
    },
    {
     "data": {
      "image/png": "[encoded data removed]",
      "text/plain": [
       "<Figure size 432x288 with 2 Axes>"
      ]
     },
     "metadata": {
      "needs_background": "light"
     },
     "output_type": "display_data"
    }
   ],
   "source": [
    "f, ax = plt.subplots(subplot_kw=dict(projection=ccrs.PlateCarree(central_longitude=180)))\n",
    "ds['mask'].plot(ax=ax, transform=ccrs.PlateCarree())\n",
    "shp.boundary.plot(ax=ax, transform=ccrs.PlateCarree(), color='k', linewidth=0.8)"
   ]
  },
  {
   "cell_type": "markdown",
   "id": "e06654f9-375e-4932-97f5-e51d15af7d44",
   "metadata": {},
   "source": [
    "### multiply the SSTs by the mask "
   ]
  },
  {
   "cell_type": "code",
   "execution_count": 20,
   "id": "c427c38d-d3f2-4b13-a4b9-41b6206395ac",
   "metadata": {},
   "outputs": [],
   "source": [
    "ds['sst_masked'] = ds['sst'] * ds['mask']"
   ]
  },
  {
   "cell_type": "code",
   "execution_count": 21,
   "id": "4ec03485-e644-44c8-927d-4378ca500eea",
   "metadata": {},
   "outputs": [
    {
     "data": {
      "text/plain": [
       "<GeoAxesSubplot:title={'center':'time = 2021-12-01'}, xlabel='lon', ylabel='lat'>"
      ]
     },
     "execution_count": 21,
     "metadata": {},
     "output_type": "execute_result"
    },
    {
     "data": {
      "image/png": "[encoded data removed]",
      "text/plain": [
       "<Figure size 432x288 with 2 Axes>"
      ]
     },
     "metadata": {
      "needs_background": "light"
     },
     "output_type": "display_data"
    }
   ],
   "source": [
    "f, ax = plt.subplots(subplot_kw=dict(projection=ccrs.PlateCarree(central_longitude=180)))\n",
    "ds['sst_masked'][-1,:,:].plot(ax=ax, transform=ccrs.PlateCarree())\n",
    "shp.boundary.plot(ax=ax, transform=ccrs.PlateCarree(), color='k', linewidth=0.8)"
   ]
  },
  {
   "cell_type": "markdown",
   "id": "f60dc5ca-993d-4c77-8bdf-bbc5f91da517",
   "metadata": {},
   "source": [
    "### number of grid points inside the EEZ"
   ]
  },
  {
   "cell_type": "code",
   "execution_count": 22,
   "id": "ab5c2ad3-8d70-475c-9417-28baa97284cc",
   "metadata": {},
   "outputs": [
    {
     "data": {
      "text/plain": [
       "112"
      ]
     },
     "execution_count": 22,
     "metadata": {},
     "output_type": "execute_result"
    }
   ],
   "source": [
    "len(ds['sst_masked'].stack(z=('lat','lon')).dropna('z')['z'])"
   ]
  },
  {
   "cell_type": "markdown",
   "id": "32fed2d0-10a3-4ed9-ad33-b30da38d2d13",
   "metadata": {},
   "source": [
    "### creates the weights (cosine of the latitude)"
   ]
  },
  {
   "cell_type": "code",
   "execution_count": 23,
   "id": "b2074540-de6f-40fb-a42b-8755ac5e9252",
   "metadata": {},
   "outputs": [
    {
     "data": {
      "text/html": [
       "<div><svg style=\"position: absolute; width: 0; height: 0; overflow: hidden\">\n",
       "<defs>\n",
       "<symbol id=\"icon-database\" viewBox=\"0 0 32 32\">\n",
       "<path d=\"M16 0c-8.837 0-16 2.239-16 5v4c0 2.761 7.163 5 16 5s16-2.239 16-5v-4c0-2.761-7.163-5-16-5z\"></path>\n",
       "<path d=\"M16 17c-8.837 0-16-2.239-16-5v6c0 2.761 7.163 5 16 5s16-2.239 16-5v-6c0 2.761-7.163 5-16 5z\"></path>\n",
       "<path d=\"M16 26c-8.837 0-16-2.239-16-5v6c0 2.761 7.163 5 16 5s16-2.239 16-5v-6c0 2.761-7.163 5-16 5z\"></path>\n",
       "</symbol>\n",
       "<symbol id=\"icon-file-text2\" viewBox=\"0 0 32 32\">\n",
       "<path d=\"M28.681 7.159c-0.694-0.947-1.662-2.053-2.724-3.116s-2.169-2.030-3.116-2.724c-1.612-1.182-2.393-1.319-2.841-1.319h-15.5c-1.378 0-2.5 1.121-2.5 2.5v27c0 1.378 1.122 2.5 2.5 2.5h23c1.378 0 2.5-1.122 2.5-2.5v-19.5c0-0.448-0.137-1.23-1.319-2.841zM24.543 5.457c0.959 0.959 1.712 1.825 2.268 2.543h-4.811v-4.811c0.718 0.556 1.584 1.309 2.543 2.268zM28 29.5c0 0.271-0.229 0.5-0.5 0.5h-23c-0.271 0-0.5-0.229-0.5-0.5v-27c0-0.271 0.229-0.5 0.5-0.5 0 0 15.499-0 15.5 0v7c0 0.552 0.448 1 1 1h7v19.5z\"></path>\n",
       "<path d=\"M23 26h-14c-0.552 0-1-0.448-1-1s0.448-1 1-1h14c0.552 0 1 0.448 1 1s-0.448 1-1 1z\"></path>\n",
       "<path d=\"M23 22h-14c-0.552 0-1-0.448-1-1s0.448-1 1-1h14c0.552 0 1 0.448 1 1s-0.448 1-1 1z\"></path>\n",
       "<path d=\"M23 18h-14c-0.552 0-1-0.448-1-1s0.448-1 1-1h14c0.552 0 1 0.448 1 1s-0.448 1-1 1z\"></path>\n",
       "</symbol>\n",
       "</defs>\n",
       "</svg>\n",
       "<style>/* CSS stylesheet for displaying xarray objects in jupyterlab.\n",
       " *\n",
       " */\n",
       "\n",
       ":root {\n",
       "  --xr-font-color0: var(--jp-content-font-color0, rgba(0, 0, 0, 1));\n",
       "  --xr-font-color2: var(--jp-content-font-color2, rgba(0, 0, 0, 0.54));\n",
       "  --xr-font-color3: var(--jp-content-font-color3, rgba(0, 0, 0, 0.38));\n",
       "  --xr-border-color: var(--jp-border-color2, #e0e0e0);\n",
       "  --xr-disabled-color: var(--jp-layout-color3, #bdbdbd);\n",
       "  --xr-background-color: var(--jp-layout-color0, white);\n",
       "  --xr-background-color-row-even: var(--jp-layout-color1, white);\n",
       "  --xr-background-color-row-odd: var(--jp-layout-color2, #eeeeee);\n",
       "}\n",
       "\n",
       "html[theme=dark],\n",
       "body.vscode-dark {\n",
       "  --xr-font-color0: rgba(255, 255, 255, 1);\n",
       "  --xr-font-color2: rgba(255, 255, 255, 0.54);\n",
       "  --xr-font-color3: rgba(255, 255, 255, 0.38);\n",
       "  --xr-border-color: #1F1F1F;\n",
       "  --xr-disabled-color: #515151;\n",
       "  --xr-background-color: #111111;\n",
       "  --xr-background-color-row-even: #111111;\n",
       "  --xr-background-color-row-odd: #313131;\n",
       "}\n",
       "\n",
       ".xr-wrap {\n",
       "  display: block !important;\n",
       "  min-width: 300px;\n",
       "  max-width: 700px;\n",
       "}\n",
       "\n",
       ".xr-text-repr-fallback {\n",
       "  /* fallback to plain text repr when CSS is not injected (untrusted notebook) */\n",
       "  display: none;\n",
       "}\n",
       "\n",
       ".xr-header {\n",
       "  padding-top: 6px;\n",
       "  padding-bottom: 6px;\n",
       "  margin-bottom: 4px;\n",
       "  border-bottom: solid 1px var(--xr-border-color);\n",
       "}\n",
       "\n",
       ".xr-header > div,\n",
       ".xr-header > ul {\n",
       "  display: inline;\n",
       "  margin-top: 0;\n",
       "  margin-bottom: 0;\n",
       "}\n",
       "\n",
       ".xr-obj-type,\n",
       ".xr-array-name {\n",
       "  margin-left: 2px;\n",
       "  margin-right: 10px;\n",
       "}\n",
       "\n",
       ".xr-obj-type {\n",
       "  color: var(--xr-font-color2);\n",
       "}\n",
       "\n",
       ".xr-sections {\n",
       "  padding-left: 0 !important;\n",
       "  display: grid;\n",
       "  grid-template-columns: 150px auto auto 1fr 20px 20px;\n",
       "}\n",
       "\n",
       ".xr-section-item {\n",
       "  display: contents;\n",
       "}\n",
       "\n",
       ".xr-section-item input {\n",
       "  display: none;\n",
       "}\n",
       "\n",
       ".xr-section-item input + label {\n",
       "  color: var(--xr-disabled-color);\n",
       "}\n",
       "\n",
       ".xr-section-item input:enabled + label {\n",
       "  cursor: pointer;\n",
       "  color: var(--xr-font-color2);\n",
       "}\n",
       "\n",
       ".xr-section-item input:enabled + label:hover {\n",
       "  color: var(--xr-font-color0);\n",
       "}\n",
       "\n",
       ".xr-section-summary {\n",
       "  grid-column: 1;\n",
       "  color: var(--xr-font-color2);\n",
       "  font-weight: 500;\n",
       "}\n",
       "\n",
       ".xr-section-summary > span {\n",
       "  display: inline-block;\n",
       "  padding-left: 0.5em;\n",
       "}\n",
       "\n",
       ".xr-section-summary-in:disabled + label {\n",
       "  color: var(--xr-font-color2);\n",
       "}\n",
       "\n",
       ".xr-section-summary-in + label:before {\n",
       "  display: inline-block;\n",
       "  content: '►';\n",
       "  font-size: 11px;\n",
       "  width: 15px;\n",
       "  text-align: center;\n",
       "}\n",
       "\n",
       ".xr-section-summary-in:disabled + label:before {\n",
       "  color: var(--xr-disabled-color);\n",
       "}\n",
       "\n",
       ".xr-section-summary-in:checked + label:before {\n",
       "  content: '▼';\n",
       "}\n",
       "\n",
       ".xr-section-summary-in:checked + label > span {\n",
       "  display: none;\n",
       "}\n",
       "\n",
       ".xr-section-summary,\n",
       ".xr-section-inline-details {\n",
       "  padding-top: 4px;\n",
       "  padding-bottom: 4px;\n",
       "}\n",
       "\n",
       ".xr-section-inline-details {\n",
       "  grid-column: 2 / -1;\n",
       "}\n",
       "\n",
       ".xr-section-details {\n",
       "  display: none;\n",
       "  grid-column: 1 / -1;\n",
       "  margin-bottom: 5px;\n",
       "}\n",
       "\n",
       ".xr-section-summary-in:checked ~ .xr-section-details {\n",
       "  display: contents;\n",
       "}\n",
       "\n",
       ".xr-array-wrap {\n",
       "  grid-column: 1 / -1;\n",
       "  display: grid;\n",
       "  grid-template-columns: 20px auto;\n",
       "}\n",
       "\n",
       ".xr-array-wrap > label {\n",
       "  grid-column: 1;\n",
       "  vertical-align: top;\n",
       "}\n",
       "\n",
       ".xr-preview {\n",
       "  color: var(--xr-font-color3);\n",
       "}\n",
       "\n",
       ".xr-array-preview,\n",
       ".xr-array-data {\n",
       "  padding: 0 5px !important;\n",
       "  grid-column: 2;\n",
       "}\n",
       "\n",
       ".xr-array-data,\n",
       ".xr-array-in:checked ~ .xr-array-preview {\n",
       "  display: none;\n",
       "}\n",
       "\n",
       ".xr-array-in:checked ~ .xr-array-data,\n",
       ".xr-array-preview {\n",
       "  display: inline-block;\n",
       "}\n",
       "\n",
       ".xr-dim-list {\n",
       "  display: inline-block !important;\n",
       "  list-style: none;\n",
       "  padding: 0 !important;\n",
       "  margin: 0;\n",
       "}\n",
       "\n",
       ".xr-dim-list li {\n",
       "  display: inline-block;\n",
       "  padding: 0;\n",
       "  margin: 0;\n",
       "}\n",
       "\n",
       ".xr-dim-list:before {\n",
       "  content: '(';\n",
       "}\n",
       "\n",
       ".xr-dim-list:after {\n",
       "  content: ')';\n",
       "}\n",
       "\n",
       ".xr-dim-list li:not(:last-child):after {\n",
       "  content: ',';\n",
       "  padding-right: 5px;\n",
       "}\n",
       "\n",
       ".xr-has-index {\n",
       "  font-weight: bold;\n",
       "}\n",
       "\n",
       ".xr-var-list,\n",
       ".xr-var-item {\n",
       "  display: contents;\n",
       "}\n",
       "\n",
       ".xr-var-item > div,\n",
       ".xr-var-item label,\n",
       ".xr-var-item > .xr-var-name span {\n",
       "  background-color: var(--xr-background-color-row-even);\n",
       "  margin-bottom: 0;\n",
       "}\n",
       "\n",
       ".xr-var-item > .xr-var-name:hover span {\n",
       "  padding-right: 5px;\n",
       "}\n",
       "\n",
       ".xr-var-list > li:nth-child(odd) > div,\n",
       ".xr-var-list > li:nth-child(odd) > label,\n",
       ".xr-var-list > li:nth-child(odd) > .xr-var-name span {\n",
       "  background-color: var(--xr-background-color-row-odd);\n",
       "}\n",
       "\n",
       ".xr-var-name {\n",
       "  grid-column: 1;\n",
       "}\n",
       "\n",
       ".xr-var-dims {\n",
       "  grid-column: 2;\n",
       "}\n",
       "\n",
       ".xr-var-dtype {\n",
       "  grid-column: 3;\n",
       "  text-align: right;\n",
       "  color: var(--xr-font-color2);\n",
       "}\n",
       "\n",
       ".xr-var-preview {\n",
       "  grid-column: 4;\n",
       "}\n",
       "\n",
       ".xr-var-name,\n",
       ".xr-var-dims,\n",
       ".xr-var-dtype,\n",
       ".xr-preview,\n",
       ".xr-attrs dt {\n",
       "  white-space: nowrap;\n",
       "  overflow: hidden;\n",
       "  text-overflow: ellipsis;\n",
       "  padding-right: 10px;\n",
       "}\n",
       "\n",
       ".xr-var-name:hover,\n",
       ".xr-var-dims:hover,\n",
       ".xr-var-dtype:hover,\n",
       ".xr-attrs dt:hover {\n",
       "  overflow: visible;\n",
       "  width: auto;\n",
       "  z-index: 1;\n",
       "}\n",
       "\n",
       ".xr-var-attrs,\n",
       ".xr-var-data {\n",
       "  display: none;\n",
       "  background-color: var(--xr-background-color) !important;\n",
       "  padding-bottom: 5px !important;\n",
       "}\n",
       "\n",
       ".xr-var-attrs-in:checked ~ .xr-var-attrs,\n",
       ".xr-var-data-in:checked ~ .xr-var-data {\n",
       "  display: block;\n",
       "}\n",
       "\n",
       ".xr-var-data > table {\n",
       "  float: right;\n",
       "}\n",
       "\n",
       ".xr-var-name span,\n",
       ".xr-var-data,\n",
       ".xr-attrs {\n",
       "  padding-left: 25px !important;\n",
       "}\n",
       "\n",
       ".xr-attrs,\n",
       ".xr-var-attrs,\n",
       ".xr-var-data {\n",
       "  grid-column: 1 / -1;\n",
       "}\n",
       "\n",
       "dl.xr-attrs {\n",
       "  padding: 0;\n",
       "  margin: 0;\n",
       "  display: grid;\n",
       "  grid-template-columns: 125px auto;\n",
       "}\n",
       "\n",
       ".xr-attrs dt,\n",
       ".xr-attrs dd {\n",
       "  padding: 0;\n",
       "  margin: 0;\n",
       "  float: left;\n",
       "  padding-right: 10px;\n",
       "  width: auto;\n",
       "}\n",
       "\n",
       ".xr-attrs dt {\n",
       "  font-weight: normal;\n",
       "  grid-column: 1;\n",
       "}\n",
       "\n",
       ".xr-attrs dt:hover span {\n",
       "  display: inline-block;\n",
       "  background: var(--xr-background-color);\n",
       "  padding-right: 10px;\n",
       "}\n",
       "\n",
       ".xr-attrs dd {\n",
       "  grid-column: 2;\n",
       "  white-space: pre-wrap;\n",
       "  word-break: break-all;\n",
       "}\n",
       "\n",
       ".xr-icon-database,\n",
       ".xr-icon-file-text2 {\n",
       "  display: inline-block;\n",
       "  vertical-align: middle;\n",
       "  width: 1em;\n",
       "  height: 1.5em !important;\n",
       "  stroke-width: 0;\n",
       "  stroke: currentColor;\n",
       "  fill: currentColor;\n",
       "}\n",
       "</style><pre class='xr-text-repr-fallback'>&lt;xarray.DataArray &#x27;weights&#x27; (lat: 16)&gt;\n",
       "array([0.5591929 , 0.58778524, 0.6156615 , 0.6427876 , 0.66913056,\n",
       "       0.6946584 , 0.7193398 , 0.7431448 , 0.76604444, 0.7880108 ,\n",
       "       0.809017  , 0.8290376 , 0.8480481 , 0.8660254 , 0.88294756,\n",
       "       0.89879405], dtype=float32)\n",
       "Coordinates:\n",
       "  * lat      (lat) float32 -56.0 -54.0 -52.0 -50.0 ... -32.0 -30.0 -28.0 -26.0</pre><div class='xr-wrap' style='display:none'><div class='xr-header'><div class='xr-obj-type'>xarray.DataArray</div><div class='xr-array-name'>'weights'</div><ul class='xr-dim-list'><li><span class='xr-has-index'>lat</span>: 16</li></ul></div><ul class='xr-sections'><li class='xr-section-item'><div class='xr-array-wrap'><input id='section-aa372c43-fe83-4a1b-876f-48ef96cb458b' class='xr-array-in' type='checkbox' checked><label for='section-aa372c43-fe83-4a1b-876f-48ef96cb458b' title='Show/hide data repr'><svg class='icon xr-icon-database'><use xlink:href='#icon-database'></use></svg></label><div class='xr-array-preview xr-preview'><span>0.5592 0.5878 0.6157 0.6428 0.6691 ... 0.829 0.848 0.866 0.8829 0.8988</span></div><div class='xr-array-data'><pre>array([0.5591929 , 0.58778524, 0.6156615 , 0.6427876 , 0.66913056,\n",
       "       0.6946584 , 0.7193398 , 0.7431448 , 0.76604444, 0.7880108 ,\n",
       "       0.809017  , 0.8290376 , 0.8480481 , 0.8660254 , 0.88294756,\n",
       "       0.89879405], dtype=float32)</pre></div></div></li><li class='xr-section-item'><input id='section-8f2cc4f3-bdd9-4765-b34f-d426de057ab7' class='xr-section-summary-in' type='checkbox'  checked><label for='section-8f2cc4f3-bdd9-4765-b34f-d426de057ab7' class='xr-section-summary' >Coordinates: <span>(1)</span></label><div class='xr-section-inline-details'></div><div class='xr-section-details'><ul class='xr-var-list'><li class='xr-var-item'><div class='xr-var-name'><span class='xr-has-index'>lat</span></div><div class='xr-var-dims'>(lat)</div><div class='xr-var-dtype'>float32</div><div class='xr-var-preview xr-preview'>-56.0 -54.0 -52.0 ... -28.0 -26.0</div><input id='attrs-9f68c1cf-2bd0-480e-897e-37cd692cdb35' class='xr-var-attrs-in' type='checkbox' disabled><label for='attrs-9f68c1cf-2bd0-480e-897e-37cd692cdb35' title='Show/Hide attributes'><svg class='icon xr-icon-file-text2'><use xlink:href='#icon-file-text2'></use></svg></label><input id='data-55ad02f0-be44-4e88-81e3-a23d6c607443' class='xr-var-data-in' type='checkbox'><label for='data-55ad02f0-be44-4e88-81e3-a23d6c607443' title='Show/Hide data repr'><svg class='icon xr-icon-database'><use xlink:href='#icon-database'></use></svg></label><div class='xr-var-attrs'><dl class='xr-attrs'></dl></div><div class='xr-var-data'><pre>array([-56., -54., -52., -50., -48., -46., -44., -42., -40., -38., -36., -34.,\n",
       "       -32., -30., -28., -26.], dtype=float32)</pre></div></li></ul></div></li><li class='xr-section-item'><input id='section-3d7ca4c5-b1d1-4d36-bdc9-7382ad56ff99' class='xr-section-summary-in' type='checkbox' disabled ><label for='section-3d7ca4c5-b1d1-4d36-bdc9-7382ad56ff99' class='xr-section-summary'  title='Expand/collapse section'>Attributes: <span>(0)</span></label><div class='xr-section-inline-details'></div><div class='xr-section-details'><dl class='xr-attrs'></dl></div></li></ul></div></div>"
      ],
      "text/plain": [
       "<xarray.DataArray 'weights' (lat: 16)>\n",
       "array([0.5591929 , 0.58778524, 0.6156615 , 0.6427876 , 0.66913056,\n",
       "       0.6946584 , 0.7193398 , 0.7431448 , 0.76604444, 0.7880108 ,\n",
       "       0.809017  , 0.8290376 , 0.8480481 , 0.8660254 , 0.88294756,\n",
       "       0.89879405], dtype=float32)\n",
       "Coordinates:\n",
       "  * lat      (lat) float32 -56.0 -54.0 -52.0 -50.0 ... -32.0 -30.0 -28.0 -26.0"
      ]
     },
     "execution_count": 23,
     "metadata": {},
     "output_type": "execute_result"
    }
   ],
   "source": [
    "weights = np.cos(np.deg2rad(ds.lat))\n",
    "weights.name = \"weights\"\n",
    "weights"
   ]
  },
  {
   "cell_type": "markdown",
   "id": "127a0991-1cca-4637-8a80-40a4900f1a05",
   "metadata": {},
   "source": [
    "### weighted mean"
   ]
  },
  {
   "cell_type": "code",
   "execution_count": 24,
   "id": "ab2a0fc4-9269-43d6-9c4d-c63ee74ce0ef",
   "metadata": {},
   "outputs": [],
   "source": [
    "sst_weighted = ds['sst_masked'].weighted(weights)"
   ]
  },
  {
   "cell_type": "code",
   "execution_count": 25,
   "id": "b20cd854-a141-4f91-a50f-10a3116c5841",
   "metadata": {},
   "outputs": [],
   "source": [
    "sst_weighted_mean = sst_weighted.mean(['lat','lon'])"
   ]
  },
  {
   "cell_type": "markdown",
   "id": "d33d51cb-6396-46c4-9713-a314e5420047",
   "metadata": {},
   "source": [
    "### non weighted mean for comparison "
   ]
  },
  {
   "cell_type": "code",
   "execution_count": 26,
   "id": "36d770d1-85b5-4a64-941d-57a50a11d584",
   "metadata": {},
   "outputs": [],
   "source": [
    "sst_mean = ds['sst_masked'].mean(['lat','lon'])"
   ]
  },
  {
   "cell_type": "markdown",
   "id": "5ededba3-c3b9-4325-8dac-f9826b39387a",
   "metadata": {},
   "source": [
    "### difference between weighted and un-weighted mean "
   ]
  },
  {
   "cell_type": "code",
   "execution_count": 27,
   "id": "bcfa3fdc-b8b5-4f07-8d2b-db1b5d754e6b",
   "metadata": {},
   "outputs": [
    {
     "data": {
      "text/plain": [
       "[<matplotlib.lines.Line2D at 0x7f2115aaa130>]"
      ]
     },
     "execution_count": 27,
     "metadata": {},
     "output_type": "execute_result"
    },
    {
     "data": {
      "image/png": "[encoded data removed]",
      "text/plain": [
       "<Figure size 432x288 with 1 Axes>"
      ]
     },
     "metadata": {
      "needs_background": "light"
     },
     "output_type": "display_data"
    }
   ],
   "source": [
    "(sst_weighted_mean - sst_mean).plot()"
   ]
  },
  {
   "cell_type": "markdown",
   "id": "47c5fe43-085c-4056-92a3-dcd42caf024b",
   "metadata": {},
   "source": [
    "### it's systematically warmer, which makes sense as the weights are larger as you go from S to N "
   ]
  },
  {
   "cell_type": "markdown",
   "id": "a3ed1683-1a22-4965-a1fa-c10d4f1f9bdb",
   "metadata": {},
   "source": [
    "### plot of the area weigthed mean time-series for NZ's EEZ "
   ]
  },
  {
   "cell_type": "code",
   "execution_count": 28,
   "id": "eff8906f-6512-478d-9714-a94a9be0ea73",
   "metadata": {},
   "outputs": [
    {
     "data": {
      "text/plain": [
       "[<matplotlib.lines.Line2D at 0x7f2114b8fe50>]"
      ]
     },
     "execution_count": 28,
     "metadata": {},
     "output_type": "execute_result"
    },
    {
     "data": {
      "image/png": "[encoded data removed]",
      "text/plain": [
       "<Figure size 432x288 with 1 Axes>"
      ]
     },
     "metadata": {
      "needs_background": "light"
     },
     "output_type": "display_data"
    }
   ],
   "source": [
    "sst_weighted_mean.plot()"
   ]
  },
  {
   "cell_type": "markdown",
   "id": "c77116b4-4aae-4735-8580-31f2cbf7f144",
   "metadata": {},
   "source": [
    "### check the seasonal cycles of both unweighted and weighted mean"
   ]
  },
  {
   "cell_type": "code",
   "execution_count": 29,
   "id": "a58a9edc-c141-4708-b174-bc600ded2b91",
   "metadata": {},
   "outputs": [
    {
     "data": {
      "text/plain": [
       "[<matplotlib.lines.Line2D at 0x7f211779b640>]"
      ]
     },
     "execution_count": 29,
     "metadata": {},
     "output_type": "execute_result"
    },
    {
     "data": {
      "image/png": "[encoded data removed]",
      "text/plain": [
       "<Figure size 432x288 with 1 Axes>"
      ]
     },
     "metadata": {
      "needs_background": "light"
     },
     "output_type": "display_data"
    }
   ],
   "source": [
    "f, ax = plt.subplots()\n",
    "sst_weighted_mean.groupby(sst_weighted_mean.time.dt.month).mean().plot(ax=ax, color='r')\n",
    "sst_mean.groupby(sst_mean.time.dt.month).mean().plot(ax=ax, color='b')"
   ]
  },
  {
   "cell_type": "markdown",
   "id": "d033842f-60c6-459e-9c87-7418fddc9a86",
   "metadata": {},
   "source": [
    "### calculates the annual averages ('raw' data)"
   ]
  },
  {
   "cell_type": "code",
   "execution_count": 30,
   "id": "29f4407c-c4af-44c1-8810-f6fade110596",
   "metadata": {},
   "outputs": [],
   "source": [
    "sst_weighted_mean_annual = sst_weighted_mean.resample({'time':'A'}).mean()"
   ]
  },
  {
   "cell_type": "code",
   "execution_count": 31,
   "id": "6096ab42-37d7-4345-be55-dc13170a3389",
   "metadata": {},
   "outputs": [
    {
     "data": {
      "text/plain": [
       "[<matplotlib.lines.Line2D at 0x7f2115a27a30>]"
      ]
     },
     "execution_count": 31,
     "metadata": {},
     "output_type": "execute_result"
    },
    {
     "data": {
      "image/png": "[encoded data removed]",
      "text/plain": [
       "<Figure size 432x288 with 1 Axes>"
      ]
     },
     "metadata": {
      "needs_background": "light"
     },
     "output_type": "display_data"
    }
   ],
   "source": [
    "sst_weighted_mean_annual.plot()"
   ]
  },
  {
   "cell_type": "code",
   "execution_count": 32,
   "id": "bcba4b67-c702-406d-b674-fd90d10f0dac",
   "metadata": {},
   "outputs": [],
   "source": [
    "sst_weighted_mean_annual = sst_weighted_mean_annual.to_pandas()"
   ]
  },
  {
   "cell_type": "code",
   "execution_count": 33,
   "id": "f19403c4-a5b9-4978-a82c-1fa2fe2c061f",
   "metadata": {},
   "outputs": [],
   "source": [
    "sst_weighted_mean_annual = sst_weighted_mean_annual.to_frame(name='NZ_SST')"
   ]
  },
  {
   "cell_type": "markdown",
   "id": "5ddeb642-4835-41c6-8170-d7d743d25bbe",
   "metadata": {},
   "source": [
    "### sort "
   ]
  },
  {
   "cell_type": "code",
   "execution_count": 34,
   "id": "43099571-a80a-4bac-918a-792d70813ec4",
   "metadata": {},
   "outputs": [],
   "source": [
    "sorted_sst_weighted_mean_annual = sst_weighted_mean_annual.sort_values(ascending=False, by='NZ_SST')"
   ]
  },
  {
   "cell_type": "code",
   "execution_count": 35,
   "id": "b079d932-2e17-4285-89c0-1b72cf3bd132",
   "metadata": {},
   "outputs": [
    {
     "data": {
      "text/html": [
       "<div>\n",
       "<style scoped>\n",
       "    .dataframe tbody tr th:only-of-type {\n",
       "        vertical-align: middle;\n",
       "    }\n",
       "\n",
       "    .dataframe tbody tr th {\n",
       "        vertical-align: top;\n",
       "    }\n",
       "\n",
       "    .dataframe thead th {\n",
       "        text-align: right;\n",
       "    }\n",
       "</style>\n",
       "<table border=\"1\" class=\"dataframe\">\n",
       "  <thead>\n",
       "    <tr style=\"text-align: right;\">\n",
       "      <th></th>\n",
       "      <th>NZ_SST</th>\n",
       "    </tr>\n",
       "    <tr>\n",
       "      <th>time</th>\n",
       "      <th></th>\n",
       "    </tr>\n",
       "  </thead>\n",
       "  <tbody>\n",
       "    <tr>\n",
       "      <th>2019-12-31</th>\n",
       "      <td>14.919031</td>\n",
       "    </tr>\n",
       "    <tr>\n",
       "      <th>2018-12-31</th>\n",
       "      <td>14.870470</td>\n",
       "    </tr>\n",
       "    <tr>\n",
       "      <th>2021-12-31</th>\n",
       "      <td>14.681916</td>\n",
       "    </tr>\n",
       "    <tr>\n",
       "      <th>2001-12-31</th>\n",
       "      <td>14.636129</td>\n",
       "    </tr>\n",
       "    <tr>\n",
       "      <th>1999-12-31</th>\n",
       "      <td>14.602630</td>\n",
       "    </tr>\n",
       "  </tbody>\n",
       "</table>\n",
       "</div>"
      ],
      "text/plain": [
       "               NZ_SST\n",
       "time                 \n",
       "2019-12-31  14.919031\n",
       "2018-12-31  14.870470\n",
       "2021-12-31  14.681916\n",
       "2001-12-31  14.636129\n",
       "1999-12-31  14.602630"
      ]
     },
     "execution_count": 35,
     "metadata": {},
     "output_type": "execute_result"
    }
   ],
   "source": [
    "sorted_sst_weighted_mean_annual.head()"
   ]
  },
  {
   "cell_type": "code",
   "execution_count": 36,
   "id": "3da7db86-ba07-4b41-8e4c-aaa889b134a0",
   "metadata": {},
   "outputs": [],
   "source": [
    "sorted_sst_weighted_mean_annual.loc[:,'rank'] = np.arange(len(sorted_sst_weighted_mean_annual)) + 1"
   ]
  },
  {
   "cell_type": "code",
   "execution_count": 37,
   "id": "1115cdf5-96dc-48af-af6f-e48d81dd0bd6",
   "metadata": {},
   "outputs": [
    {
     "data": {
      "text/html": [
       "<div>\n",
       "<style scoped>\n",
       "    .dataframe tbody tr th:only-of-type {\n",
       "        vertical-align: middle;\n",
       "    }\n",
       "\n",
       "    .dataframe tbody tr th {\n",
       "        vertical-align: top;\n",
       "    }\n",
       "\n",
       "    .dataframe thead th {\n",
       "        text-align: right;\n",
       "    }\n",
       "</style>\n",
       "<table border=\"1\" class=\"dataframe\">\n",
       "  <thead>\n",
       "    <tr style=\"text-align: right;\">\n",
       "      <th></th>\n",
       "      <th>NZ_SST</th>\n",
       "      <th>rank</th>\n",
       "    </tr>\n",
       "    <tr>\n",
       "      <th>time</th>\n",
       "      <th></th>\n",
       "      <th></th>\n",
       "    </tr>\n",
       "  </thead>\n",
       "  <tbody>\n",
       "    <tr>\n",
       "      <th>2019-12-31</th>\n",
       "      <td>14.919031</td>\n",
       "      <td>1</td>\n",
       "    </tr>\n",
       "    <tr>\n",
       "      <th>2018-12-31</th>\n",
       "      <td>14.870470</td>\n",
       "      <td>2</td>\n",
       "    </tr>\n",
       "    <tr>\n",
       "      <th>2021-12-31</th>\n",
       "      <td>14.681916</td>\n",
       "      <td>3</td>\n",
       "    </tr>\n",
       "    <tr>\n",
       "      <th>2001-12-31</th>\n",
       "      <td>14.636129</td>\n",
       "      <td>4</td>\n",
       "    </tr>\n",
       "    <tr>\n",
       "      <th>1999-12-31</th>\n",
       "      <td>14.602630</td>\n",
       "      <td>5</td>\n",
       "    </tr>\n",
       "  </tbody>\n",
       "</table>\n",
       "</div>"
      ],
      "text/plain": [
       "               NZ_SST  rank\n",
       "time                       \n",
       "2019-12-31  14.919031     1\n",
       "2018-12-31  14.870470     2\n",
       "2021-12-31  14.681916     3\n",
       "2001-12-31  14.636129     4\n",
       "1999-12-31  14.602630     5"
      ]
     },
     "execution_count": 37,
     "metadata": {},
     "output_type": "execute_result"
    }
   ],
   "source": [
    "sorted_sst_weighted_mean_annual.head()"
   ]
  },
  {
   "cell_type": "markdown",
   "id": "1c8dd64a-ac51-46b3-8ddb-d503da8c40c9",
   "metadata": {},
   "source": [
    "### calculates the climatology, to express values in terms of anomalies "
   ]
  },
  {
   "cell_type": "code",
   "execution_count": 38,
   "id": "cf1c4c55-76bc-45c7-a6f6-0a6b47bdf9b1",
   "metadata": {},
   "outputs": [],
   "source": [
    "climo = sst_weighted_mean_annual.loc['1981':'2010',:].mean()"
   ]
  },
  {
   "cell_type": "code",
   "execution_count": 39,
   "id": "d472565a-b82a-4a3b-987f-3a63de86a641",
   "metadata": {},
   "outputs": [],
   "source": [
    "sst_weighted_mean_annual_anoms = sst_weighted_mean_annual - climo"
   ]
  },
  {
   "cell_type": "code",
   "execution_count": 40,
   "id": "187396bb-eec4-4283-8244-e247a752da79",
   "metadata": {},
   "outputs": [
    {
     "data": {
      "text/plain": [
       "<AxesSubplot:xlabel='time'>"
      ]
     },
     "execution_count": 40,
     "metadata": {},
     "output_type": "execute_result"
    },
    {
     "data": {
      "image/png": "[encoded data removed]",
      "text/plain": [
       "<Figure size 432x288 with 1 Axes>"
      ]
     },
     "metadata": {
      "needs_background": "light"
     },
     "output_type": "display_data"
    }
   ],
   "source": [
    "sst_weighted_mean_annual_anoms.plot()"
   ]
  },
  {
   "cell_type": "code",
   "execution_count": 41,
   "id": "115e66a8-2cdf-4d45-a463-b9acfd840ff9",
   "metadata": {},
   "outputs": [
    {
     "data": {
      "text/html": [
       "<div>\n",
       "<style scoped>\n",
       "    .dataframe tbody tr th:only-of-type {\n",
       "        vertical-align: middle;\n",
       "    }\n",
       "\n",
       "    .dataframe tbody tr th {\n",
       "        vertical-align: top;\n",
       "    }\n",
       "\n",
       "    .dataframe thead th {\n",
       "        text-align: right;\n",
       "    }\n",
       "</style>\n",
       "<table border=\"1\" class=\"dataframe\">\n",
       "  <thead>\n",
       "    <tr style=\"text-align: right;\">\n",
       "      <th></th>\n",
       "      <th>NZ_SST</th>\n",
       "    </tr>\n",
       "    <tr>\n",
       "      <th>time</th>\n",
       "      <th></th>\n",
       "    </tr>\n",
       "  </thead>\n",
       "  <tbody>\n",
       "    <tr>\n",
       "      <th>2019-12-31</th>\n",
       "      <td>0.802790</td>\n",
       "    </tr>\n",
       "    <tr>\n",
       "      <th>2018-12-31</th>\n",
       "      <td>0.754230</td>\n",
       "    </tr>\n",
       "    <tr>\n",
       "      <th>2021-12-31</th>\n",
       "      <td>0.565675</td>\n",
       "    </tr>\n",
       "    <tr>\n",
       "      <th>2001-12-31</th>\n",
       "      <td>0.519889</td>\n",
       "    </tr>\n",
       "    <tr>\n",
       "      <th>1999-12-31</th>\n",
       "      <td>0.486390</td>\n",
       "    </tr>\n",
       "  </tbody>\n",
       "</table>\n",
       "</div>"
      ],
      "text/plain": [
       "              NZ_SST\n",
       "time                \n",
       "2019-12-31  0.802790\n",
       "2018-12-31  0.754230\n",
       "2021-12-31  0.565675\n",
       "2001-12-31  0.519889\n",
       "1999-12-31  0.486390"
      ]
     },
     "execution_count": 41,
     "metadata": {},
     "output_type": "execute_result"
    }
   ],
   "source": [
    "sst_weighted_mean_annual_anoms.sort_values(ascending=False, by='NZ_SST').head()"
   ]
  },
  {
   "cell_type": "code",
   "execution_count": null,
   "id": "95f700d5-db14-47b8-8e24-6dafbd4ea90d",
   "metadata": {},
   "outputs": [],
   "source": []
  }
 ],
 "metadata": {
  "kernelspec": {
   "display_name": "Python 3 (ipykernel)",
   "language": "python",
   "name": "python3"
  },
  "language_info": {
   "codemirror_mode": {
    "name": "ipython",
    "version": 3
   },
   "file_extension": ".py",
   "mimetype": "text/x-python",
   "name": "python",
   "nbconvert_exporter": "python",
   "pygments_lexer": "ipython3",
   "version": "3.8.12"
  }
 },
 "nbformat": 4,
 "nbformat_minor": 5
}
